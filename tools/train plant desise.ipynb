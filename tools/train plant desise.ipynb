{
 "cells": [
  {
   "cell_type": "markdown",
   "id": "88c3ba90",
   "metadata": {},
   "source": [
    "## Importing libraries"
   ]
  },
  {
   "cell_type": "code",
   "execution_count": 21,
   "id": "5ff57fe5",
   "metadata": {},
   "outputs": [],
   "source": [
    "import tensorflow as tf\n",
    "import matplotlib.pyplot as plt\n",
    "import pandas as pd\n",
    "import seaborn as sns\n",
    "from tensorflow.keras.layers import Dense,Convolution2D,MaxPool2D,Flatten,Dropout\n",
    "from tensorflow.keras.models import Sequential\n"
   ]
  },
  {
   "cell_type": "markdown",
   "id": "55af4c9b",
   "metadata": {},
   "source": [
    "## Data Preprocessing"
   ]
  },
  {
   "cell_type": "markdown",
   "id": "024790ca",
   "metadata": {},
   "source": [
    "#### Training Image preprocessing"
   ]
  },
  {
   "cell_type": "code",
   "execution_count": 22,
   "id": "3e575425",
   "metadata": {},
   "outputs": [
    {
     "name": "stdout",
     "output_type": "stream",
     "text": [
      "Found 95455 files belonging to 38 classes.\n"
     ]
    }
   ],
   "source": [
    "training_set = tf.keras.utils.image_dataset_from_directory(\n",
    "    'train',\n",
    "    labels=\"inferred\",\n",
    "    label_mode=\"categorical\",\n",
    "    class_names=None,\n",
    "    color_mode=\"rgb\",\n",
    "    batch_size=32,\n",
    "    image_size=(224, 224),\n",
    "    shuffle=True,\n",
    "    seed=None,\n",
    "    validation_split=None,\n",
    "    subset=None,\n",
    "    interpolation=\"bilinear\",\n",
    "    follow_links=False,\n",
    "    crop_to_aspect_ratio=False\n",
    ")"
   ]
  },
  {
   "cell_type": "markdown",
   "id": "b9b3e003",
   "metadata": {},
   "source": [
    "## Validation Image Preprocessing"
   ]
  },
  {
   "cell_type": "code",
   "execution_count": 23,
   "id": "8fe5d803",
   "metadata": {},
   "outputs": [
    {
     "name": "stdout",
     "output_type": "stream",
     "text": [
      "Found 29864 files belonging to 38 classes.\n"
     ]
    }
   ],
   "source": [
    "validation_set = tf.keras.utils.image_dataset_from_directory(\n",
    "    'valid',\n",
    "    labels=\"inferred\",\n",
    "    label_mode=\"categorical\",\n",
    "    class_names=None,\n",
    "    color_mode=\"rgb\",\n",
    "    batch_size=32,\n",
    "    image_size=(224, 224),\n",
    "    shuffle=True,\n",
    "    seed=None,\n",
    "    validation_split=None,\n",
    "    subset=None,\n",
    "    interpolation=\"bilinear\",\n",
    "    follow_links=False,\n",
    "    crop_to_aspect_ratio=False\n",
    ")"
   ]
  },
  {
   "cell_type": "code",
   "execution_count": null,
   "id": "c9d27fbb",
   "metadata": {},
   "outputs": [],
   "source": []
  },
  {
   "cell_type": "code",
   "execution_count": 24,
   "id": "d6a68ac1",
   "metadata": {},
   "outputs": [],
   "source": [
    "class_name=validation_set.class_names"
   ]
  },
  {
   "cell_type": "code",
   "execution_count": 25,
   "id": "f9177333",
   "metadata": {},
   "outputs": [
    {
     "data": {
      "text/plain": [
       "['Apple___Apple_scab',\n",
       " 'Apple___Black_rot',\n",
       " 'Apple___Cedar_apple_rust',\n",
       " 'Apple___healthy',\n",
       " 'Blueberry___healthy',\n",
       " 'Cherry_(including_sour)___Powdery_mildew',\n",
       " 'Cherry_(including_sour)___healthy',\n",
       " 'Corn_(maize)___Cercospora_leaf_spot Gray_leaf_spot',\n",
       " 'Corn_(maize)___Common_rust_',\n",
       " 'Corn_(maize)___Northern_Leaf_Blight',\n",
       " 'Corn_(maize)___healthy',\n",
       " 'Grape___Black_rot',\n",
       " 'Grape___Esca_(Black_Measles)',\n",
       " 'Grape___Leaf_blight_(Isariopsis_Leaf_Spot)',\n",
       " 'Grape___healthy',\n",
       " 'Orange___Haunglongbing_(Citrus_greening)',\n",
       " 'Peach___Bacterial_spot',\n",
       " 'Peach___healthy',\n",
       " 'Pepper,_bell___Bacterial_spot',\n",
       " 'Pepper,_bell___healthy',\n",
       " 'Potato___Early_blight',\n",
       " 'Potato___Late_blight',\n",
       " 'Potato___healthy',\n",
       " 'Raspberry___healthy',\n",
       " 'Soybean___healthy',\n",
       " 'Squash___Powdery_mildew',\n",
       " 'Strawberry___Leaf_scorch',\n",
       " 'Strawberry___healthy',\n",
       " 'Tomato___Bacterial_spot',\n",
       " 'Tomato___Early_blight',\n",
       " 'Tomato___Late_blight',\n",
       " 'Tomato___Leaf_Mold',\n",
       " 'Tomato___Septoria_leaf_spot',\n",
       " 'Tomato___Spider_mites Two-spotted_spider_mite',\n",
       " 'Tomato___Target_Spot',\n",
       " 'Tomato___Tomato_Yellow_Leaf_Curl_Virus',\n",
       " 'Tomato___healthy',\n",
       " 'not_plant_leaf(please try agin)']"
      ]
     },
     "execution_count": 25,
     "metadata": {},
     "output_type": "execute_result"
    }
   ],
   "source": [
    "class_name"
   ]
  },
  {
   "cell_type": "markdown",
   "id": "21620201",
   "metadata": {},
   "source": [
    "## Building Model"
   ]
  },
  {
   "cell_type": "code",
   "execution_count": 26,
   "id": "9974b633",
   "metadata": {},
   "outputs": [],
   "source": [
    "cnn = tf.keras.models.Sequential()"
   ]
  },
  {
   "cell_type": "markdown",
   "id": "0c28671f",
   "metadata": {},
   "source": [
    "#### Building Convolution Layer"
   ]
  },
  {
   "cell_type": "code",
   "execution_count": 27,
   "id": "61591d5c",
   "metadata": {},
   "outputs": [],
   "source": [
    "cnn.add(tf.keras.layers.Conv2D(filters=32,kernel_size=3,padding='same',activation='relu',input_shape=[224,224,3]))\n",
    "cnn.add(tf.keras.layers.Conv2D(filters=32,kernel_size=3,activation='relu'))\n",
    "cnn.add(tf.keras.layers.MaxPool2D(pool_size=2,strides=2))"
   ]
  },
  {
   "cell_type": "code",
   "execution_count": 28,
   "id": "9ad83aae",
   "metadata": {},
   "outputs": [],
   "source": [
    "cnn.add(tf.keras.layers.Conv2D(filters=64,kernel_size=3,padding='same',activation='relu'))\n",
    "cnn.add(tf.keras.layers.Conv2D(filters=64,kernel_size=3,activation='relu'))\n",
    "cnn.add(tf.keras.layers.MaxPool2D(pool_size=2,strides=2))"
   ]
  },
  {
   "cell_type": "code",
   "execution_count": 29,
   "id": "31430418",
   "metadata": {},
   "outputs": [],
   "source": [
    "cnn.add(tf.keras.layers.Conv2D(filters=128,kernel_size=3,padding='same',activation='relu'))\n",
    "cnn.add(tf.keras.layers.Conv2D(filters=128,kernel_size=3,activation='relu'))\n",
    "cnn.add(tf.keras.layers.MaxPool2D(pool_size=2,strides=2))"
   ]
  },
  {
   "cell_type": "code",
   "execution_count": 30,
   "id": "29ff8ddb",
   "metadata": {},
   "outputs": [],
   "source": [
    "cnn.add(tf.keras.layers.Conv2D(filters=256,kernel_size=3,padding='same',activation='relu'))\n",
    "cnn.add(tf.keras.layers.Conv2D(filters=256,kernel_size=3,activation='relu'))\n",
    "cnn.add(tf.keras.layers.MaxPool2D(pool_size=2,strides=2))"
   ]
  },
  {
   "cell_type": "code",
   "execution_count": 31,
   "id": "4544b9d2",
   "metadata": {},
   "outputs": [],
   "source": [
    "cnn.add(tf.keras.layers.Conv2D(filters=512,kernel_size=3,padding='same',activation='relu'))\n",
    "cnn.add(tf.keras.layers.Conv2D(filters=512,kernel_size=3,activation='relu'))\n",
    "cnn.add(tf.keras.layers.MaxPool2D(pool_size=2,strides=2))"
   ]
  },
  {
   "cell_type": "code",
   "execution_count": 32,
   "id": "0507cd06",
   "metadata": {},
   "outputs": [],
   "source": [
    "cnn.add(tf.keras.layers.Dropout(0.25))"
   ]
  },
  {
   "cell_type": "code",
   "execution_count": 33,
   "id": "b1cf02d8",
   "metadata": {},
   "outputs": [],
   "source": [
    "cnn.add(tf.keras.layers.Flatten())"
   ]
  },
  {
   "cell_type": "code",
   "execution_count": 34,
   "id": "469fadf6",
   "metadata": {},
   "outputs": [],
   "source": [
    "cnn.add(tf.keras.layers.Dense(units=1500,activation='relu'))"
   ]
  },
  {
   "cell_type": "code",
   "execution_count": 35,
   "id": "49b82971",
   "metadata": {},
   "outputs": [],
   "source": [
    "cnn.add(tf.keras.layers.Dropout(0.4)) #To avoid overfitting"
   ]
  },
  {
   "cell_type": "code",
   "execution_count": 36,
   "id": "9413b662",
   "metadata": {},
   "outputs": [],
   "source": [
    "#Output Layer\n",
    "cnn.add(tf.keras.layers.Dense(units=38,activation='softmax'))"
   ]
  },
  {
   "cell_type": "markdown",
   "id": "db91c84e",
   "metadata": {},
   "source": [
    "## Compiling and Training Phase"
   ]
  },
  {
   "cell_type": "code",
   "execution_count": 37,
   "id": "a595a541",
   "metadata": {},
   "outputs": [],
   "source": [
    "cnn.compile(optimizer=tf.keras.optimizers.legacy.Adam(\n",
    "    learning_rate=0.0001),loss='categorical_crossentropy',metrics=['accuracy'])"
   ]
  },
  {
   "cell_type": "code",
   "execution_count": 38,
   "id": "426204cb",
   "metadata": {},
   "outputs": [
    {
     "name": "stdout",
     "output_type": "stream",
     "text": [
      "Model: \"sequential_1\"\n",
      "_________________________________________________________________\n",
      " Layer (type)                Output Shape              Param #   \n",
      "=================================================================\n",
      " conv2d_10 (Conv2D)          (None, 224, 224, 32)      896       \n",
      "                                                                 \n",
      " conv2d_11 (Conv2D)          (None, 222, 222, 32)      9248      \n",
      "                                                                 \n",
      " max_pooling2d_5 (MaxPoolin  (None, 111, 111, 32)      0         \n",
      " g2D)                                                            \n",
      "                                                                 \n",
      " conv2d_12 (Conv2D)          (None, 111, 111, 64)      18496     \n",
      "                                                                 \n",
      " conv2d_13 (Conv2D)          (None, 109, 109, 64)      36928     \n",
      "                                                                 \n",
      " max_pooling2d_6 (MaxPoolin  (None, 54, 54, 64)        0         \n",
      " g2D)                                                            \n",
      "                                                                 \n",
      " conv2d_14 (Conv2D)          (None, 54, 54, 128)       73856     \n",
      "                                                                 \n",
      " conv2d_15 (Conv2D)          (None, 52, 52, 128)       147584    \n",
      "                                                                 \n",
      " max_pooling2d_7 (MaxPoolin  (None, 26, 26, 128)       0         \n",
      " g2D)                                                            \n",
      "                                                                 \n",
      " conv2d_16 (Conv2D)          (None, 26, 26, 256)       295168    \n",
      "                                                                 \n",
      " conv2d_17 (Conv2D)          (None, 24, 24, 256)       590080    \n",
      "                                                                 \n",
      " max_pooling2d_8 (MaxPoolin  (None, 12, 12, 256)       0         \n",
      " g2D)                                                            \n",
      "                                                                 \n",
      " conv2d_18 (Conv2D)          (None, 12, 12, 512)       1180160   \n",
      "                                                                 \n",
      " conv2d_19 (Conv2D)          (None, 10, 10, 512)       2359808   \n",
      "                                                                 \n",
      " max_pooling2d_9 (MaxPoolin  (None, 5, 5, 512)         0         \n",
      " g2D)                                                            \n",
      "                                                                 \n",
      " dropout_2 (Dropout)         (None, 5, 5, 512)         0         \n",
      "                                                                 \n",
      " flatten_1 (Flatten)         (None, 12800)             0         \n",
      "                                                                 \n",
      " dense_2 (Dense)             (None, 1500)              19201500  \n",
      "                                                                 \n",
      " dropout_3 (Dropout)         (None, 1500)              0         \n",
      "                                                                 \n",
      " dense_3 (Dense)             (None, 38)                57038     \n",
      "                                                                 \n",
      "=================================================================\n",
      "Total params: 23970762 (91.44 MB)\n",
      "Trainable params: 23970762 (91.44 MB)\n",
      "Non-trainable params: 0 (0.00 Byte)\n",
      "_________________________________________________________________\n"
     ]
    }
   ],
   "source": [
    "cnn.summary()"
   ]
  },
  {
   "cell_type": "code",
   "execution_count": 39,
   "id": "f181a5b0",
   "metadata": {},
   "outputs": [
    {
     "name": "stdout",
     "output_type": "stream",
     "text": [
      "Epoch 1/10\n",
      "2983/2983 [==============================] - 3364s 1s/step - loss: 0.8900 - accuracy: 0.7417 - val_loss: 0.3491 - val_accuracy: 0.8941\n",
      "Epoch 2/10\n",
      "2983/2983 [==============================] - 3351s 1s/step - loss: 0.2666 - accuracy: 0.9176 - val_loss: 0.1825 - val_accuracy: 0.9477\n",
      "Epoch 3/10\n",
      "2983/2983 [==============================] - 3350s 1s/step - loss: 0.1523 - accuracy: 0.9520 - val_loss: 0.1562 - val_accuracy: 0.9569\n",
      "Epoch 4/10\n",
      "2983/2983 [==============================] - 3345s 1s/step - loss: 0.1047 - accuracy: 0.9668 - val_loss: 0.1435 - val_accuracy: 0.9614\n",
      "Epoch 5/10\n",
      "2983/2983 [==============================] - 3345s 1s/step - loss: 0.0795 - accuracy: 0.9744 - val_loss: 0.1193 - val_accuracy: 0.9702\n",
      "Epoch 6/10\n",
      "2983/2983 [==============================] - 3358s 1s/step - loss: 0.0587 - accuracy: 0.9808 - val_loss: 0.1122 - val_accuracy: 0.9736\n",
      "Epoch 7/10\n",
      "2983/2983 [==============================] - 3352s 1s/step - loss: 0.0506 - accuracy: 0.9838 - val_loss: 0.1285 - val_accuracy: 0.9702\n",
      "Epoch 8/10\n",
      "2983/2983 [==============================] - 3350s 1s/step - loss: 0.0444 - accuracy: 0.9861 - val_loss: 0.1060 - val_accuracy: 0.9755\n",
      "Epoch 9/10\n",
      "2983/2983 [==============================] - 3363s 1s/step - loss: 0.0399 - accuracy: 0.9874 - val_loss: 0.1069 - val_accuracy: 0.9761\n",
      "Epoch 10/10\n",
      "2983/2983 [==============================] - 3355s 1s/step - loss: 0.0332 - accuracy: 0.9896 - val_loss: 0.1050 - val_accuracy: 0.9760\n"
     ]
    }
   ],
   "source": [
    "training_history = cnn.fit(x=training_set,validation_data=validation_set,epochs=10)"
   ]
  },
  {
   "cell_type": "markdown",
   "id": "fc5c48df",
   "metadata": {},
   "source": [
    "## Evaluating Model"
   ]
  },
  {
   "cell_type": "code",
   "execution_count": 40,
   "id": "9058065e",
   "metadata": {},
   "outputs": [
    {
     "name": "stdout",
     "output_type": "stream",
     "text": [
      "2983/2983 [==============================] - 865s 290ms/step - loss: 0.0138 - accuracy: 0.9957\n",
      "Training accuracy: 0.9956838488578796\n"
     ]
    }
   ],
   "source": [
    "train_loss, train_acc = cnn.evaluate(training_set)\n",
    "print('Training accuracy:', train_acc)"
   ]
  },
  {
   "cell_type": "code",
   "execution_count": 41,
   "id": "da46960c",
   "metadata": {},
   "outputs": [
    {
     "name": "stdout",
     "output_type": "stream",
     "text": [
      "934/934 [==============================] - 269s 288ms/step - loss: 0.1050 - accuracy: 0.9760\n",
      "Validation accuracy: 0.9759576916694641\n"
     ]
    }
   ],
   "source": [
    "val_loss, val_acc = cnn.evaluate(validation_set)\n",
    "print('Validation accuracy:', val_acc)"
   ]
  },
  {
   "cell_type": "markdown",
   "id": "021535c6",
   "metadata": {},
   "source": [
    "## Saving Model"
   ]
  },
  {
   "cell_type": "code",
   "execution_count": 42,
   "id": "366c68c7",
   "metadata": {},
   "outputs": [],
   "source": [
    "cnn.save('trained_plant_disease_model7.keras')"
   ]
  },
  {
   "cell_type": "code",
   "execution_count": 43,
   "id": "ff397bb9",
   "metadata": {},
   "outputs": [
    {
     "name": "stderr",
     "output_type": "stream",
     "text": [
      "C:\\Users\\A1\\anaconda3\\Lib\\site-packages\\keras\\src\\engine\\training.py:3103: UserWarning: You are saving your model as an HDF5 file via `model.save()`. This file format is considered legacy. We recommend using instead the native Keras format, e.g. `model.save('my_model.keras')`.\n",
      "  saving_api.save_model(\n"
     ]
    }
   ],
   "source": [
    "cnn.save('trained_plant_disease_model7.h5')"
   ]
  },
  {
   "cell_type": "code",
   "execution_count": 44,
   "id": "4a43d192",
   "metadata": {},
   "outputs": [],
   "source": [
    "cnn = tf.keras.models.load_model('trained_plant_disease_model7.h5')\n"
   ]
  },
  {
   "cell_type": "code",
   "execution_count": null,
   "id": "d38ea70e",
   "metadata": {},
   "outputs": [],
   "source": []
  },
  {
   "cell_type": "code",
   "execution_count": 25,
   "id": "b0fb799f",
   "metadata": {},
   "outputs": [],
   "source": [
    "\n",
    "# #store .h5 file in your .py folder\n",
    "\n",
    "#  #load h5 module\n",
    "# model=tf.keras.models.load_model('trained_plant_disease_model7.h5')\n",
    "# tflite_converter = tf.lite.TFLiteConverter.from_keras_model(model)\n",
    "\n",
    "# #convert\n",
    "# tflite_model = tflite_converter.convert()\n",
    "# open(\"tf_lite_model.tflite\", \"wb\").write(tflite_model)\n",
    "\n",
    "# #done convertion"
   ]
  },
  {
   "cell_type": "code",
   "execution_count": 26,
   "id": "4bf8b3c3",
   "metadata": {},
   "outputs": [],
   "source": [
    "# tf_lite_model=\"tf_model_final.tflite\""
   ]
  },
  {
   "cell_type": "code",
   "execution_count": 45,
   "id": "7a5dd451",
   "metadata": {},
   "outputs": [
    {
     "name": "stdout",
     "output_type": "stream",
     "text": [
      "INFO:tensorflow:Assets written to: C:\\Users\\A1\\AppData\\Local\\Temp\\tmp1exv3hsy\\assets\n"
     ]
    },
    {
     "name": "stderr",
     "output_type": "stream",
     "text": [
      "INFO:tensorflow:Assets written to: C:\\Users\\A1\\AppData\\Local\\Temp\\tmp1exv3hsy\\assets\n"
     ]
    }
   ],
   "source": [
    "converter = tf.lite.TFLiteConverter.from_keras_model(cnn)\n",
    "tflite_model = converter.convert()\n",
    "\n",
    "# Save the TensorFlow Lite model\n",
    "tf_lite_model = \"tf_model_final.tflite\"\n",
    "with open(tf_lite_model, 'wb') as f:\n",
    "    f.write(tflite_model)"
   ]
  },
  {
   "cell_type": "code",
   "execution_count": 46,
   "id": "543a04a5",
   "metadata": {},
   "outputs": [],
   "source": [
    "# tf_lite_converter=tf.lite.TFLiteConverter.from_keras_model(model)\n",
    "#  #convert\n",
    "# tflite_model = tflite_converter.convert()"
   ]
  },
  {
   "cell_type": "code",
   "execution_count": 47,
   "id": "b44b2af0",
   "metadata": {},
   "outputs": [
    {
     "data": {
      "text/plain": [
       "95891312"
      ]
     },
     "execution_count": 47,
     "metadata": {},
     "output_type": "execute_result"
    }
   ],
   "source": [
    "tf_lite_model_name=tf_lite_model\n",
    "open(tf_lite_model_name, \"wb\").write(tflite_model)"
   ]
  },
  {
   "cell_type": "code",
   "execution_count": null,
   "id": "f0f33772",
   "metadata": {},
   "outputs": [],
   "source": [
    "\n"
   ]
  },
  {
   "cell_type": "code",
   "execution_count": 48,
   "id": "55b87f2b",
   "metadata": {},
   "outputs": [
    {
     "data": {
      "text/plain": [
       "{'loss': [0.8900431394577026,\n",
       "  0.26656466722488403,\n",
       "  0.1522856056690216,\n",
       "  0.1046924889087677,\n",
       "  0.07947548478841782,\n",
       "  0.05865081027150154,\n",
       "  0.05061759054660797,\n",
       "  0.04435845836997032,\n",
       "  0.039854973554611206,\n",
       "  0.03318982571363449],\n",
       " 'accuracy': [0.7416688203811646,\n",
       "  0.9176051616668701,\n",
       "  0.9520192742347717,\n",
       "  0.9667696952819824,\n",
       "  0.9743543863296509,\n",
       "  0.9807867407798767,\n",
       "  0.9838248491287231,\n",
       "  0.9861400723457336,\n",
       "  0.9873657822608948,\n",
       "  0.9895972013473511],\n",
       " 'val_loss': [0.34909746050834656,\n",
       "  0.18248233199119568,\n",
       "  0.15620112419128418,\n",
       "  0.14350004494190216,\n",
       "  0.11927974969148636,\n",
       "  0.11220815032720566,\n",
       "  0.12853626906871796,\n",
       "  0.10600047558546066,\n",
       "  0.10687793791294098,\n",
       "  0.10502805560827255],\n",
       " 'val_accuracy': [0.8940865397453308,\n",
       "  0.9476627111434937,\n",
       "  0.9568711519241333,\n",
       "  0.9614251255989075,\n",
       "  0.9701647758483887,\n",
       "  0.9736137390136719,\n",
       "  0.9701982140541077,\n",
       "  0.9754554033279419,\n",
       "  0.9761251211166382,\n",
       "  0.9759576916694641]}"
      ]
     },
     "execution_count": 48,
     "metadata": {},
     "output_type": "execute_result"
    }
   ],
   "source": [
    "training_history.history #Return Dictionary of history"
   ]
  },
  {
   "cell_type": "code",
   "execution_count": 49,
   "id": "16748410",
   "metadata": {},
   "outputs": [],
   "source": [
    "import json\n",
    "with open('training_hist.json','w') as f:\n",
    "  json.dump(training_history.history,f)"
   ]
  },
  {
   "cell_type": "code",
   "execution_count": 50,
   "id": "464cf7d7",
   "metadata": {},
   "outputs": [
    {
     "name": "stdout",
     "output_type": "stream",
     "text": [
      "dict_keys(['loss', 'accuracy', 'val_loss', 'val_accuracy'])\n"
     ]
    }
   ],
   "source": [
    "print(training_history.history.keys())"
   ]
  },
  {
   "cell_type": "code",
   "execution_count": 51,
   "id": "f67f722f",
   "metadata": {},
   "outputs": [
    {
     "data": {
      "text/plain": [
       "[0.7416688203811646,\n",
       " 0.9176051616668701,\n",
       " 0.9520192742347717,\n",
       " 0.9667696952819824,\n",
       " 0.9743543863296509,\n",
       " 0.9807867407798767,\n",
       " 0.9838248491287231,\n",
       " 0.9861400723457336,\n",
       " 0.9873657822608948,\n",
       " 0.9895972013473511]"
      ]
     },
     "execution_count": 51,
     "metadata": {},
     "output_type": "execute_result"
    }
   ],
   "source": [
    "training_history.history['accuracy']"
   ]
  },
  {
   "cell_type": "markdown",
   "id": "7070dc46",
   "metadata": {},
   "source": [
    "## Accuracy Visualization"
   ]
  },
  {
   "cell_type": "code",
   "execution_count": 52,
   "id": "14c5fa03",
   "metadata": {},
   "outputs": [
    {
     "data": {
      "image/png": "[encoded data removed]",
      "text/plain": [
       "<Figure size 640x480 with 1 Axes>"
      ]
     },
     "metadata": {},
     "output_type": "display_data"
    }
   ],
   "source": [
    "epochs = [i for i in range(1,11)]\n",
    "plt.plot(epochs,training_history.history['accuracy'],color='red',label='Training Accuracy')\n",
    "plt.plot(epochs,training_history.history['val_accuracy'],color='blue',label='Validation Accuracy')\n",
    "plt.xlabel('No. of Epochs')\n",
    "plt.ylabel('acc resalt')\n",
    "plt.title('Visualization of Accuracy Result')\n",
    "plt.legend()\n",
    "plt.show()"
   ]
  },
  {
   "cell_type": "markdown",
   "id": "33c6f1e4",
   "metadata": {},
   "source": [
    "## Some other metrics for model evaluation"
   ]
  },
  {
   "cell_type": "code",
   "execution_count": 53,
   "id": "afc593a6",
   "metadata": {},
   "outputs": [
    {
     "data": {
      "text/plain": [
       "['Apple___Apple_scab',\n",
       " 'Apple___Black_rot',\n",
       " 'Apple___Cedar_apple_rust',\n",
       " 'Apple___healthy',\n",
       " 'Blueberry___healthy',\n",
       " 'Cherry_(including_sour)___Powdery_mildew',\n",
       " 'Cherry_(including_sour)___healthy',\n",
       " 'Corn_(maize)___Cercospora_leaf_spot Gray_leaf_spot',\n",
       " 'Corn_(maize)___Common_rust_',\n",
       " 'Corn_(maize)___Northern_Leaf_Blight',\n",
       " 'Corn_(maize)___healthy',\n",
       " 'Grape___Black_rot',\n",
       " 'Grape___Esca_(Black_Measles)',\n",
       " 'Grape___Leaf_blight_(Isariopsis_Leaf_Spot)',\n",
       " 'Grape___healthy',\n",
       " 'Orange___Haunglongbing_(Citrus_greening)',\n",
       " 'Peach___Bacterial_spot',\n",
       " 'Peach___healthy',\n",
       " 'Pepper,_bell___Bacterial_spot',\n",
       " 'Pepper,_bell___healthy',\n",
       " 'Potato___Early_blight',\n",
       " 'Potato___Late_blight',\n",
       " 'Potato___healthy',\n",
       " 'Raspberry___healthy',\n",
       " 'Soybean___healthy',\n",
       " 'Squash___Powdery_mildew',\n",
       " 'Strawberry___Leaf_scorch',\n",
       " 'Strawberry___healthy',\n",
       " 'Tomato___Bacterial_spot',\n",
       " 'Tomato___Early_blight',\n",
       " 'Tomato___Late_blight',\n",
       " 'Tomato___Leaf_Mold',\n",
       " 'Tomato___Septoria_leaf_spot',\n",
       " 'Tomato___Spider_mites Two-spotted_spider_mite',\n",
       " 'Tomato___Target_Spot',\n",
       " 'Tomato___Tomato_Yellow_Leaf_Curl_Virus',\n",
       " 'Tomato___healthy',\n",
       " 'not_plant_leaf(please try agin)']"
      ]
     },
     "execution_count": 53,
     "metadata": {},
     "output_type": "execute_result"
    }
   ],
   "source": [
    "class_name = validation_set.class_names\n",
    "class_name"
   ]
  },
  {
   "cell_type": "code",
   "execution_count": 54,
   "id": "407f0b6d",
   "metadata": {},
   "outputs": [
    {
     "name": "stdout",
     "output_type": "stream",
     "text": [
      "Found 29864 files belonging to 38 classes.\n"
     ]
    }
   ],
   "source": [
    "test_set = tf.keras.utils.image_dataset_from_directory(\n",
    "    'valid',\n",
    "    labels=\"inferred\",\n",
    "    label_mode=\"categorical\",\n",
    "    class_names=None,\n",
    "    color_mode=\"rgb\",\n",
    "    batch_size=1,\n",
    "    image_size=(224, 224),\n",
    "    shuffle=False,\n",
    "    seed=None,\n",
    "    validation_split=None,\n",
    "    subset=None,\n",
    "    interpolation=\"bilinear\",\n",
    "    follow_links=False,\n",
    "    crop_to_aspect_ratio=False\n",
    ")"
   ]
  },
  {
   "cell_type": "code",
   "execution_count": 55,
   "id": "30b57caa",
   "metadata": {},
   "outputs": [
    {
     "name": "stdout",
     "output_type": "stream",
     "text": [
      "29864/29864 [==============================] - 602s 20ms/step\n"
     ]
    }
   ],
   "source": [
    "y_pred = cnn.predict(test_set)\n",
    "predicted_categories = tf.argmax(y_pred, axis=1)"
   ]
  },
  {
   "cell_type": "code",
   "execution_count": 56,
   "id": "8488ccb0",
   "metadata": {},
   "outputs": [],
   "source": [
    "true_categories = tf.concat([y for x, y in test_set], axis=0)\n",
    "Y_true = tf.argmax(true_categories, axis=1)"
   ]
  },
  {
   "cell_type": "code",
   "execution_count": 57,
   "id": "418e3622",
   "metadata": {},
   "outputs": [
    {
     "data": {
      "text/plain": [
       "<tf.Tensor: shape=(29864,), dtype=int64, numpy=array([ 0,  0,  0, ..., 37, 37, 37], dtype=int64)>"
      ]
     },
     "execution_count": 57,
     "metadata": {},
     "output_type": "execute_result"
    }
   ],
   "source": [
    "Y_true"
   ]
  },
  {
   "cell_type": "code",
   "execution_count": 58,
   "id": "1f179dc2",
   "metadata": {},
   "outputs": [
    {
     "data": {
      "text/plain": [
       "<tf.Tensor: shape=(29864,), dtype=int64, numpy=array([ 0,  0,  0, ..., 37, 37, 37], dtype=int64)>"
      ]
     },
     "execution_count": 58,
     "metadata": {},
     "output_type": "execute_result"
    }
   ],
   "source": [
    "predicted_categories"
   ]
  },
  {
   "cell_type": "code",
   "execution_count": 59,
   "id": "477eaf6f",
   "metadata": {},
   "outputs": [
    {
     "data": {
      "text/plain": [
       "(38, 38)"
      ]
     },
     "execution_count": 59,
     "metadata": {},
     "output_type": "execute_result"
    }
   ],
   "source": [
    "from sklearn.metrics import confusion_matrix,classification_report\n",
    "cm = confusion_matrix(Y_true,predicted_categories)\n",
    "cm.shape"
   ]
  },
  {
   "cell_type": "code",
   "execution_count": 60,
   "id": "71838f80",
   "metadata": {},
   "outputs": [
    {
     "name": "stdout",
     "output_type": "stream",
     "text": [
      "F1-score: 0.9759164489344162\n"
     ]
    }
   ],
   "source": [
    "from sklearn.metrics import f1_score\n",
    "\n",
    "# Assuming Y_true contains the true labels and predicted_categories contains the predicted labels\n",
    "f1 = f1_score(Y_true, predicted_categories, average='weighted')\n",
    "print(\"F1-score:\", f1)\n"
   ]
  },
  {
   "cell_type": "code",
   "execution_count": 61,
   "id": "95e1a738",
   "metadata": {},
   "outputs": [
    {
     "name": "stdout",
     "output_type": "stream",
     "text": [
      "                                                    precision    recall  f1-score   support\n",
      "\n",
      "                                Apple___Apple_scab       0.97      0.93      0.95       721\n",
      "                                 Apple___Black_rot       0.98      0.99      0.99       684\n",
      "                          Apple___Cedar_apple_rust       0.90      0.97      0.93       549\n",
      "                                   Apple___healthy       0.98      0.99      0.98      1047\n",
      "                               Blueberry___healthy       0.97      0.97      0.97       937\n",
      "          Cherry_(including_sour)___Powdery_mildew       0.99      0.99      0.99       737\n",
      "                 Cherry_(including_sour)___healthy       0.97      0.98      0.97       764\n",
      "Corn_(maize)___Cercospora_leaf_spot Gray_leaf_spot       0.95      0.92      0.93       584\n",
      "                       Corn_(maize)___Common_rust_       0.99      0.99      0.99       838\n",
      "               Corn_(maize)___Northern_Leaf_Blight       0.96      0.98      0.97       777\n",
      "                            Corn_(maize)___healthy       0.99      1.00      1.00       814\n",
      "                                 Grape___Black_rot       0.98      0.98      0.98       844\n",
      "                      Grape___Esca_(Black_Measles)       1.00      0.99      1.00       895\n",
      "        Grape___Leaf_blight_(Isariopsis_Leaf_Spot)       1.00      0.99      0.99       753\n",
      "                                   Grape___healthy       0.98      0.99      0.99       602\n",
      "          Orange___Haunglongbing_(Citrus_greening)       1.00      1.00      1.00      2156\n",
      "                            Peach___Bacterial_spot       0.98      0.98      0.98      1149\n",
      "                                   Peach___healthy       0.99      0.99      0.99       635\n",
      "                     Pepper,_bell___Bacterial_spot       0.94      0.97      0.96       793\n",
      "                            Pepper,_bell___healthy       0.98      0.98      0.98       942\n",
      "                             Potato___Early_blight       1.00      0.99      0.99       785\n",
      "                              Potato___Late_blight       0.97      0.98      0.98       785\n",
      "                                  Potato___healthy       0.99      0.96      0.97       502\n",
      "                               Raspberry___healthy       0.99      0.98      0.98       569\n",
      "                                 Soybean___healthy       0.98      0.98      0.98       505\n",
      "                           Squash___Powdery_mildew       0.96      0.99      0.98       434\n",
      "                          Strawberry___Leaf_scorch       0.99      0.98      0.99       777\n",
      "                              Strawberry___healthy       0.99      0.98      0.99       612\n",
      "                           Tomato___Bacterial_spot       0.96      0.98      0.97       425\n",
      "                             Tomato___Early_blight       0.88      0.97      0.92       782\n",
      "                              Tomato___Late_blight       0.99      0.86      0.92      1058\n",
      "                                Tomato___Leaf_Mold       0.99      0.96      0.97       759\n",
      "                       Tomato___Septoria_leaf_spot       0.95      0.87      0.91       436\n",
      "     Tomato___Spider_mites Two-spotted_spider_mite       0.98      0.96      0.97       435\n",
      "                              Tomato___Target_Spot       0.96      0.99      0.97       879\n",
      "            Tomato___Tomato_Yellow_Leaf_Curl_Virus       1.00      1.00      1.00      2098\n",
      "                                  Tomato___healthy       0.99      0.98      0.99       481\n",
      "                   not_plant_leaf(please try agin)       0.88      0.95      0.92       321\n",
      "\n",
      "                                          accuracy                           0.98     29864\n",
      "                                         macro avg       0.97      0.97      0.97     29864\n",
      "                                      weighted avg       0.98      0.98      0.98     29864\n",
      "\n"
     ]
    }
   ],
   "source": [
    "# Precision Recall Fscore\n",
    "print(classification_report(Y_true,predicted_categories,target_names=class_name))"
   ]
  },
  {
   "cell_type": "markdown",
   "id": "cec42d5c",
   "metadata": {},
   "source": [
    "## Confusion Matrix Visualization"
   ]
  },
  {
   "cell_type": "code",
   "execution_count": null,
   "id": "6839aee0",
   "metadata": {},
   "outputs": [],
   "source": []
  }
 ],
 "metadata": {
  "kernelspec": {
   "display_name": "Python 3 (ipykernel)",
   "language": "python",
   "name": "python3"
  },
  "language_info": {
   "codemirror_mode": {
    "name": "ipython",
    "version": 3
   },
   "file_extension": ".py",
   "mimetype": "text/x-python",
   "name": "python",
   "nbconvert_exporter": "python",
   "pygments_lexer": "ipython3",
   "version": "3.11.5"
  }
 },
 "nbformat": 4,
 "nbformat_minor": 5
}
